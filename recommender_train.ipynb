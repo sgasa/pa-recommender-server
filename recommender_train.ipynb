{
 "cells": [
  {
   "attachments": {},
   "cell_type": "markdown",
   "id": "09e6a80d",
   "metadata": {},
   "source": [
    "# Implicit feedback recommender for events\n",
    "\n",
    "In this notebook we are going to build a recommender system based on an implicit feedback dataset. We have a list of events in the form of IDs of artists and venues. This dataset essentially denotes user behavior, that is, which artists do events at which venues.  We can analyze these data to make recommendations based on what is learned from these preferences. For this process we will use Matrix Factorization, a method that uses matrix decomposition to discover the underlying factors or features that describe artist and venue preferences.\n",
    "\n",
    "Matrix factorization is a popular algorithm for building implicit feedback recommender systems. The basic idea behind matrix factorization is to represent the artist-venue interaction matrix as the product of two low-rank matrices. This allows the algorithm to find underlying latent features that describe the preferences of artists and venues.\n",
    "\n",
    "To illustrate, let's say we have an artist-venue interaction matrix R, where each row represents an artist, each column represents a venue, and each entry represents the artist's interaction with the venue (e.g., an event). The goal of matrix factorization is to factorize this matrix into two matrices, U and V, such that $R ≈ UV^T$. Here, U is a matrix where each row represents an artist and each column represents a latent feature, and V is a matrix where each row represents a venue and each column represents a latent feature. The latent features are learned during the training process and are not directly observed in the data.\n",
    "\n",
    "The factorization can be achieved by minimizing a loss function that measures the difference between the predicted and actual interactions in the artist-venue matrix. One common loss function used in matrix factorization is the mean squared error (MSE), which is defined as:\n",
    "\n",
    "$$L = ∑(r_ui - u_i^T v_u)^2$$\n",
    "\n",
    "Here, $r_ui$ is the actual interaction between artist $u$ and venue $i$, and $u_i$ and $v_u$ are the corresponding row vectors from the matrices U and V, respectively. The goal is to find the values of U and V that minimize this loss function.\n",
    "\n",
    "Once the matrix factorization has been performed, the recommendation engine can make predictions for new venues that an artist has not yet booked an event with by multiplying the artist's latent feature vector by the venue matrix $V^T$. The resulting vector represents the predicted interactions between the artist and each venue, and the top venues can be recommended to the artist.\n",
    "\n",
    "Matrix factorization has proven to be an effective algorithm for implicit feedback recommender systems, particularly for large and sparse datasets. It has been used in many real-world applications, such as movie and music recommendations on platforms like Netflix and Spotify."
   ]
  },
  {
   "attachments": {},
   "cell_type": "markdown",
   "id": "a4ffe237",
   "metadata": {},
   "source": [
    "## The training process"
   ]
  },
  {
   "attachments": {},
   "cell_type": "markdown",
   "id": "ff6f68fa",
   "metadata": {},
   "source": [
    "First we read the training data"
   ]
  },
  {
   "cell_type": "code",
   "execution_count": null,
   "id": "0725e3e5",
   "metadata": {},
   "outputs": [],
   "source": [
    "import pandas as pd\n",
    "implicit_data = pd.read_csv(\"data.csv\", sep=\"\\t\", header=None)"
   ]
  },
  {
   "attachments": {},
   "cell_type": "markdown",
   "id": "5efe7571",
   "metadata": {},
   "source": [
    "We then construct a Pandas DataFrame, where the first column is the artist's ID, the second the venue's ID and the third (called 'plays') is the number of times the artist has performed in that venue."
   ]
  },
  {
   "cell_type": "code",
   "execution_count": null,
   "id": "deb04a0c",
   "metadata": {},
   "outputs": [],
   "source": [
    "implicit_data = implicit_data.groupby(['artists', 'venues']).size()\n",
    "implicit_data = implicit_data.reset_index(level=['artists', 'venues'])\n",
    "implicit_data.rename(columns={0: 'plays'}, inplace=True)"
   ]
  },
  {
   "attachments": {},
   "cell_type": "markdown",
   "id": "341d6112",
   "metadata": {},
   "source": [
    "Next, we initialise a model from the [implicit](https://implicit.readthedocs.io/en/latest/) library with 50 latent factors."
   ]
  },
  {
   "cell_type": "code",
   "execution_count": null,
   "id": "9ed488dc",
   "metadata": {},
   "outputs": [],
   "source": [
    "import implicit\n",
    "model = implicit.als.AlternatingLeastSquares(factors=50)"
   ]
  },
  {
   "attachments": {},
   "cell_type": "markdown",
   "id": "0d22c103",
   "metadata": {},
   "source": [
    "We convert the data into a CSR matrix, a sparse matrix data structure used by the implicit library."
   ]
  },
  {
   "cell_type": "code",
   "execution_count": null,
   "id": "3845bee7",
   "metadata": {},
   "outputs": [],
   "source": [
    "from pandas.api.types import CategoricalDtype\n",
    "from scipy import sparse\n",
    "artists = implicit_data[\"artists\"].unique()\n",
    "venues = implicit_data[\"venues\"].unique()\n",
    "shape = (len(artists), len(venues))"
   ]
  },
  {
   "attachments": {},
   "cell_type": "markdown",
   "id": "664fd8c7",
   "metadata": {},
   "source": [
    "We create an index for the artists and the venues and finally the sparse matrix itself."
   ]
  },
  {
   "cell_type": "code",
   "execution_count": null,
   "id": "8acb6883",
   "metadata": {},
   "outputs": [],
   "source": [
    "artist_cat = CategoricalDtype(categories=sorted(artists), ordered=True)\n",
    "venue_cat = CategoricalDtype(categories=sorted(venues), ordered=True)\n",
    "artist_index = implicit_data[\"artists\"].astype(artist_cat).cat.codes\n",
    "venue_index = implicit_data[\"venues\"].astype(venue_cat).cat.codes\n",
    "coo = sparse.coo_matrix(\n",
    "    (implicit_data[\"plays\"], (artist_index, venue_index)), shape=shape\n",
    ")\n",
    "csr = coo.tocsr()"
   ]
  },
  {
   "attachments": {},
   "cell_type": "markdown",
   "id": "c4a2c104",
   "metadata": {},
   "source": [
    "The model can be trained with a single command."
   ]
  },
  {
   "cell_type": "code",
   "execution_count": null,
   "id": "f4a4a653",
   "metadata": {},
   "outputs": [],
   "source": [
    "model.fit(csr)"
   ]
  },
  {
   "attachments": {},
   "cell_type": "markdown",
   "id": "8650151a",
   "metadata": {},
   "source": [
    "The first 10 recommendations for an artist can be obtained as follows:"
   ]
  },
  {
   "cell_type": "code",
   "execution_count": null,
   "id": "0d24936a",
   "metadata": {},
   "outputs": [],
   "source": [
    "import numpy as np\n",
    "artist_id = 10\n",
    "results = model.recommend(\n",
    "  artist_index, csr[artist_id], N=10, filter_already_liked_items=True\n",
    ")\n",
    "ids = [result for result in results[0]]\n",
    "scores = [result for result in results[1]]\n",
    "pd.DataFrame(\n",
    "  {\"venue\": venues[ids], \n",
    "   \"score\": scores, \n",
    "   \"already_liked\": np.in1d(ids, csr[artist_id].indices)\n",
    "  }\n",
    ")"
   ]
  },
  {
   "attachments": {},
   "cell_type": "markdown",
   "id": "1db936f2",
   "metadata": {},
   "source": [
    "The same for a venue"
   ]
  },
  {
   "cell_type": "code",
   "execution_count": null,
   "id": "2f9ed24d",
   "metadata": {},
   "outputs": [],
   "source": [
    "venue_id = 2\n",
    "results = model.recommend(\n",
    "  venue_id, csr[venue_id], N=10, filter_already_liked_items=True\n",
    ")\n",
    "ids = [result for result in results[0]]\n",
    "scores = [result for result in results[1]]\n",
    "pd.DataFrame(\n",
    "  {\"artist\": artists[ids], \n",
    "   \"score\": scores, \n",
    "   \"already_liked\": np.in1d(ids, csr[venue_index].indices)\n",
    " }\n",
    ")"
   ]
  },
  {
   "attachments": {},
   "cell_type": "markdown",
   "id": "e5681166",
   "metadata": {},
   "source": [
    "Finally, we export the model to be used in the production recommender system."
   ]
  },
  {
   "cell_type": "code",
   "execution_count": null,
   "id": "16b0817b",
   "metadata": {},
   "outputs": [],
   "source": [
    "from joblib import dump\n",
    "dump(model, 'model.joblib')"
   ]
  }
 ],
 "metadata": {
  "kernelspec": {
   "display_name": "pa",
   "language": "python",
   "name": "python3"
  },
  "language_info": {
   "codemirror_mode": {
    "name": "ipython",
    "version": 3
   },
   "file_extension": ".py",
   "mimetype": "text/x-python",
   "name": "python",
   "nbconvert_exporter": "python",
   "pygments_lexer": "ipython3",
   "version": "3.10.5"
  },
  "vscode": {
   "interpreter": {
    "hash": "45b42b8332581d8518685634cf011a8452edd18b93e2be91eb5819cc8c66223f"
   }
  }
 },
 "nbformat": 4,
 "nbformat_minor": 5
}
